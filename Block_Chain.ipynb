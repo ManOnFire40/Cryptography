{
  "nbformat": 4,
  "nbformat_minor": 0,
  "metadata": {
    "colab": {
      "provenance": []
    },
    "kernelspec": {
      "name": "python3",
      "display_name": "Python 3"
    },
    "language_info": {
      "name": "python"
    }
  },
  "cells": [
    {
      "cell_type": "code",
      "execution_count": 81,
      "metadata": {
        "id": "v_HaBBZ9x7gg"
      },
      "outputs": [],
      "source": [
        "import hashlib\n",
        "import datetime"
      ]
    },
    {
      "cell_type": "code",
      "source": [
        "class patient:\n",
        "    def __init__(self, name , age, weight, height, gender):\n",
        "        self.name = name\n",
        "        self.age = age\n",
        "        self.weight = weight\n",
        "        self.height = height\n",
        "        self.gender=gender\n",
        "    def __str__(self): \n",
        "        return \"Patient %  s , age = % s has  W=  % s and H= % s\"  % (self.name, self.age , self.weight , self.height)\n",
        " \n"
      ],
      "metadata": {
        "id": "woMb4Wz3wVu3"
      },
      "execution_count": 82,
      "outputs": []
    },
    {
      "cell_type": "code",
      "source": [
        "p=patient('Sara',22,55,170,'F')\n",
        "str(p)"
      ],
      "metadata": {
        "colab": {
          "base_uri": "https://localhost:8080/",
          "height": 35
        },
        "id": "fEfLQmpGGfIe",
        "outputId": "f69070ab-121d-42cd-aa23-cc1936b4ac7e"
      },
      "execution_count": 83,
      "outputs": [
        {
          "output_type": "execute_result",
          "data": {
            "text/plain": [
              "'Patient Sara , age = 22 has  W=  55 and H= 170'"
            ],
            "application/vnd.google.colaboratory.intrinsic+json": {
              "type": "string"
            }
          },
          "metadata": {},
          "execution_count": 83
        }
      ]
    },
    {
      "cell_type": "code",
      "source": [
        "class Block:\n",
        "    def __init__(self, timestamp, data, previous_hash):\n",
        "        self.timestamp = timestamp\n",
        "        self.data = data\n",
        "        self.previous_hash = previous_hash\n",
        "        self.hash = self.calculate_hash()\n",
        "\n",
        "    def calculate_hash(self):\n",
        "        hash_string = str(self.timestamp) + str(self.data) + str(self.previous_hash)\n",
        "        return hashlib.sha256(hash_string.encode()).hexdigest()\n",
        "        "
      ],
      "metadata": {
        "id": "Xo4SJLisGiCz"
      },
      "execution_count": 84,
      "outputs": []
    },
    {
      "cell_type": "code",
      "source": [
        "class Blockchain:\n",
        "    def __init__(self):\n",
        "        self.chain = [self.create_genesis_block()]\n",
        "        self.patients = {}\n",
        "\n",
        "    def create_genesis_block(self):\n",
        "        return Block(datetime.datetime.now(), \"Genesis Block\", \"0\")"
      ],
      "metadata": {
        "id": "Qz3S-um4Gm0u"
      },
      "execution_count": 85,
      "outputs": []
    },
    {
      "cell_type": "code",
      "source": [
        "def add_block(self, data, doctor_id):\n",
        "        previous_hash = self.chain[-1].hash\n",
        "        block = Block(datetime.datetime.now(), data, previous_hash)\n",
        "        if doctor_id not in self.patients:\n",
        "            self.patients[doctor_id] = []\n",
        "        self.patients[doctor_id].append(block)\n",
        "        self.chain.append(block)\n"
      ],
      "metadata": {
        "id": "rnfKYmz_GqBo"
      },
      "execution_count": 86,
      "outputs": []
    },
    {
      "cell_type": "code",
      "source": [
        "#TASK \n",
        "def get_patients(self, doctor_id): \n",
        "  if doctor_id in self.patients:\n",
        "      return self.patients[doctor_id]\n",
        "  else:\n",
        "      return []\n",
        "\n",
        "\n"
      ],
      "metadata": {
        "id": "Hd72WslTGyOG"
      },
      "execution_count": 87,
      "outputs": []
    },
    {
      "cell_type": "code",
      "source": [
        "def is_chain_valid(self):\n",
        "    for i in range(1, len(self.chain)):\n",
        "         current_block = self.chain[i]\n",
        "         previous_block = self.chain[i - 1]\n",
        "\n",
        "         if current_block.hash != current_block.calculate_hash():\n",
        "             return False\n",
        "\n",
        "         if current_block.previous_hash != previous_block.hash:\n",
        "             return False\n",
        "\n",
        "    return True"
      ],
      "metadata": {
        "id": "6Jbb07tGGyUK"
      },
      "execution_count": 88,
      "outputs": []
    },
    {
      "cell_type": "code",
      "source": [
        "# Create a blockchain instance\n",
        "blockchain = Blockchain()\n",
        "\n",
        "# Add 2 blocks for Doctor 1\n",
        "\n",
        "p1=patient('Sara',22,55,170,'F')\n",
        "p2=patient('Aly',22,55,170,'M')\n",
        "\n",
        "add_block(blockchain, p1, 1)\n",
        "add_block(blockchain, p2, 2)\n",
        " \n",
        "\n",
        "# Add 2 blocks for Doctor 2\n",
        "\n",
        "p3=patient('eyad',22,55,170,'F')\n",
        "p4=patient('bahy',22,55,170,'M')\n",
        "\n",
        "add_block(blockchain, p3, 2)\n",
        "add_block(blockchain, p4, 2)\n",
        "\n",
        "# Retrieve patients for Doctor 1\n",
        "doctor1_patients =get_patients(blockchain ,1)  \n",
        "\n",
        "print(\"Doctor 1's patients:\")\n",
        "for patient in doctor1_patients:\n",
        "    print(patient.data)\n",
        "\n",
        "# Retrieve patients for Doctor 2\n",
        "doctor2_patients =get_patients(blockchain ,2)   \n",
        "print(\"Doctor 2's patients:\")\n",
        "for patient in doctor2_patients:\n",
        "    print(patient.data)"
      ],
      "metadata": {
        "colab": {
          "base_uri": "https://localhost:8080/"
        },
        "id": "mJLyRGxDG1wx",
        "outputId": "e44b278e-94aa-424f-cd12-13915c7b241e"
      },
      "execution_count": 89,
      "outputs": [
        {
          "output_type": "stream",
          "name": "stdout",
          "text": [
            "Doctor 1's patients:\n",
            "Patient Sara , age = 22 has  W=  55 and H= 170\n",
            "Doctor 2's patients:\n",
            "Patient Aly , age = 22 has  W=  55 and H= 170\n",
            "Patient eyad , age = 22 has  W=  55 and H= 170\n",
            "Patient bahy , age = 22 has  W=  55 and H= 170\n"
          ]
        }
      ]
    },
    {
      "cell_type": "code",
      "source": [],
      "metadata": {
        "id": "o1I-dPmwG3vX"
      },
      "execution_count": 89,
      "outputs": []
    }
  ]
}
